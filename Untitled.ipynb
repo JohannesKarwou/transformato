{
 "cells": [
  {
   "cell_type": "code",
   "execution_count": 3,
   "id": "f3268595",
   "metadata": {},
   "outputs": [],
   "source": [
    "import transformato\n",
    "from transformato.utils import postprocessing\n",
    "\n",
    "import pickle"
   ]
  },
  {
   "cell_type": "code",
   "execution_count": 4,
   "id": "c706df69",
   "metadata": {},
   "outputs": [],
   "source": [
    "results = pickle.load(open(\"/site/raid4/johannes/test-RSFE/methane/run_1/methane-asfe/results/mbar_data_for_methane_in_waterbox.pickle\", \"rb\"))"
   ]
  },
  {
   "cell_type": "code",
   "execution_count": null,
   "id": "d32d800f",
   "metadata": {},
   "outputs": [],
   "source": []
  }
 ],
 "metadata": {
  "kernelspec": {
   "display_name": "Python 3 (ipykernel)",
   "language": "python",
   "name": "python3"
  },
  "language_info": {
   "codemirror_mode": {
    "name": "ipython",
    "version": 3
   },
   "file_extension": ".py",
   "mimetype": "text/x-python",
   "name": "python",
   "nbconvert_exporter": "python",
   "pygments_lexer": "ipython3",
   "version": "3.9.13"
  }
 },
 "nbformat": 4,
 "nbformat_minor": 5
}
