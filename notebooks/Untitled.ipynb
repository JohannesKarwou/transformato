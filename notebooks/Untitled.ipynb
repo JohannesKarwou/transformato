{
 "cells": [
  {
   "cell_type": "code",
   "execution_count": 1,
   "metadata": {},
   "outputs": [
    {
     "name": "stderr",
     "output_type": "stream",
     "text": [
      "RDKit WARNING: [16:02:05] Enabling RDKit 2019.09.2 jupyter extensions\n",
      "/home/mwieder/anaconda3/envs/transformato/lib/python3.7/site-packages/transformato-0.0.0+99.g028cb55.dirty-py3.7.egg/transformato/utils.py:17: YAMLLoadWarning: calling yaml.load() without Loader=... is deprecated, as the default Loader is unsafe. Please read https://msg.pyyaml.org/load for full details.\n",
      "  settingsMap = yaml.load(stream)\n",
      "/home/mwieder/anaconda3/envs/transformato/lib/python3.7/site-packages/parmed/charmm/parameters.py:905: UserWarning: LONEPAIR type COLINEAR not supported; only BISEctor and RELAtive supported\n",
      "  'RELAtive supported' % words[1])\n",
      "/home/mwieder/anaconda3/envs/transformato/lib/python3.7/site-packages/parmed/charmm/parameters.py:832: UserWarning: No charge for WEI3\n",
      "  warnings.warn('No charge for %s' % resname)\n",
      "/home/mwieder/anaconda3/envs/transformato/lib/python3.7/site-packages/parmed/charmm/parameters.py:867: UserWarning: WARNING: Ignoring \"DELETE ACCE NE2\" because entity type ACCE not used.\n",
      "  'used.' % (line.strip(), entity_type))\n",
      "/home/mwieder/anaconda3/envs/transformato/lib/python3.7/site-packages/parmed/charmm/parameters.py:511: ParameterWarning: Replacing angle ('NH2', 'CT2', 'CD'), <AngleType; k=50.000, theteq=107.000> with <AngleType; k=52.000, theteq=108.000>\n",
      "  (key, self.angle_types[key], angle_type), ParameterWarning)\n",
      "/home/mwieder/anaconda3/envs/transformato/lib/python3.7/site-packages/parmed/charmm/psf.py:319: CharmmWarning: Detected PSF molecule section that is WRONG. Resetting molecularity.\n",
      "  'Resetting molecularity.', CharmmWarning)\n",
      "/home/mwieder/anaconda3/envs/transformato/lib/python3.7/site-packages/parmed/charmm/psf.py:319: CharmmWarning: Detected PSF molecule section that is WRONG. Resetting molecularity.\n",
      "  'Resetting molecularity.', CharmmWarning)\n"
     ]
    },
    {
     "name": "stdout",
     "output_type": "stream",
     "text": [
      "/home/mwieder/Work/Projects/transformato/data/ethane/waterbox/lig/lig.sdf\n"
     ]
    },
    {
     "ename": "OSError",
     "evalue": "Bad input file /home/mwieder/Work/Projects/transformato/data/ethane/waterbox/lig/lig.sdf",
     "output_type": "error",
     "traceback": [
      "\u001b[0;31m---------------------------------------------------------------------------\u001b[0m",
      "\u001b[0;31mOSError\u001b[0m                                   Traceback (most recent call last)",
      "\u001b[0;32m<ipython-input-1-92758d2ffb42>\u001b[0m in \u001b[0;36m<module>\u001b[0;34m\u001b[0m\n\u001b[1;32m     20\u001b[0m \u001b[0;34m\u001b[0m\u001b[0m\n\u001b[1;32m     21\u001b[0m     \u001b[0;31m# load systems\u001b[0m\u001b[0;34m\u001b[0m\u001b[0;34m\u001b[0m\u001b[0;34m\u001b[0m\u001b[0m\n\u001b[0;32m---> 22\u001b[0;31m     \u001b[0ms1\u001b[0m \u001b[0;34m=\u001b[0m \u001b[0mSystemStructure\u001b[0m\u001b[0;34m(\u001b[0m\u001b[0mconfiguration\u001b[0m\u001b[0;34m,\u001b[0m \u001b[0;34m'structure1'\u001b[0m\u001b[0;34m)\u001b[0m\u001b[0;34m\u001b[0m\u001b[0;34m\u001b[0m\u001b[0m\n\u001b[0m\u001b[1;32m     23\u001b[0m     \u001b[0ms2\u001b[0m \u001b[0;34m=\u001b[0m \u001b[0mSystemStructure\u001b[0m\u001b[0;34m(\u001b[0m\u001b[0mconfiguration\u001b[0m\u001b[0;34m,\u001b[0m \u001b[0;34m'structure2'\u001b[0m\u001b[0;34m)\u001b[0m\u001b[0;34m\u001b[0m\u001b[0;34m\u001b[0m\u001b[0m\n\u001b[1;32m     24\u001b[0m     \u001b[0ma\u001b[0m \u001b[0;34m=\u001b[0m \u001b[0mProposeMutationRoute\u001b[0m\u001b[0;34m(\u001b[0m\u001b[0ms1\u001b[0m\u001b[0;34m,\u001b[0m \u001b[0ms2\u001b[0m\u001b[0;34m)\u001b[0m\u001b[0;34m\u001b[0m\u001b[0;34m\u001b[0m\u001b[0m\n",
      "\u001b[0;32m~/anaconda3/envs/transformato/lib/python3.7/site-packages/transformato-0.0.0+99.g028cb55.dirty-py3.7.egg/transformato/system.py\u001b[0m in \u001b[0;36m__init__\u001b[0;34m(self, configuration, structure)\u001b[0m\n\u001b[1;32m     77\u001b[0m \u001b[0;34m\u001b[0m\u001b[0m\n\u001b[1;32m     78\u001b[0m             \u001b[0;31m# generate rdkit mol object of small molecule\u001b[0m\u001b[0;34m\u001b[0m\u001b[0;34m\u001b[0m\u001b[0;34m\u001b[0m\u001b[0m\n\u001b[0;32m---> 79\u001b[0;31m             \u001b[0mself\u001b[0m\u001b[0;34m.\u001b[0m\u001b[0mmol\u001b[0m\u001b[0;34m:\u001b[0m\u001b[0mChem\u001b[0m\u001b[0;34m.\u001b[0m\u001b[0mMol\u001b[0m \u001b[0;34m=\u001b[0m \u001b[0mself\u001b[0m\u001b[0;34m.\u001b[0m\u001b[0m_generate_rdkit_mol\u001b[0m\u001b[0;34m(\u001b[0m\u001b[0;34m'waterbox'\u001b[0m\u001b[0;34m,\u001b[0m \u001b[0mself\u001b[0m\u001b[0;34m.\u001b[0m\u001b[0mwaterbox_psf\u001b[0m\u001b[0;34m[\u001b[0m\u001b[0;34mf\":{self.tlc}\"\u001b[0m\u001b[0;34m]\u001b[0m\u001b[0;34m)\u001b[0m\u001b[0;34m\u001b[0m\u001b[0;34m\u001b[0m\u001b[0m\n\u001b[0m\u001b[1;32m     80\u001b[0m             \u001b[0mself\u001b[0m\u001b[0;34m.\u001b[0m\u001b[0mgraph\u001b[0m\u001b[0;34m:\u001b[0m\u001b[0mnx\u001b[0m\u001b[0;34m.\u001b[0m\u001b[0mGraph\u001b[0m \u001b[0;34m=\u001b[0m \u001b[0mself\u001b[0m\u001b[0;34m.\u001b[0m\u001b[0m_mol_to_nx\u001b[0m\u001b[0;34m(\u001b[0m\u001b[0mself\u001b[0m\u001b[0;34m.\u001b[0m\u001b[0mmol\u001b[0m\u001b[0;34m)\u001b[0m\u001b[0;34m\u001b[0m\u001b[0;34m\u001b[0m\u001b[0m\n\u001b[1;32m     81\u001b[0m         \u001b[0;32melse\u001b[0m\u001b[0;34m:\u001b[0m\u001b[0;34m\u001b[0m\u001b[0;34m\u001b[0m\u001b[0m\n",
      "\u001b[0;32m~/anaconda3/envs/transformato/lib/python3.7/site-packages/transformato-0.0.0+99.g028cb55.dirty-py3.7.egg/transformato/system.py\u001b[0m in \u001b[0;36m_generate_rdkit_mol\u001b[0;34m(self, env, psf)\u001b[0m\n\u001b[1;32m    233\u001b[0m \u001b[0;34m\u001b[0m\u001b[0m\n\u001b[1;32m    234\u001b[0m         \u001b[0mprint\u001b[0m\u001b[0;34m(\u001b[0m\u001b[0msdf_file\u001b[0m\u001b[0;34m)\u001b[0m\u001b[0;34m\u001b[0m\u001b[0;34m\u001b[0m\u001b[0m\n\u001b[0;32m--> 235\u001b[0;31m         \u001b[0mmol\u001b[0m \u001b[0;34m=\u001b[0m \u001b[0mChem\u001b[0m\u001b[0;34m.\u001b[0m\u001b[0mMolFromMolFile\u001b[0m\u001b[0;34m(\u001b[0m\u001b[0msdf_file\u001b[0m\u001b[0;34m,\u001b[0m \u001b[0mremoveHs\u001b[0m\u001b[0;34m=\u001b[0m\u001b[0;32mFalse\u001b[0m\u001b[0;34m)\u001b[0m\u001b[0;34m\u001b[0m\u001b[0;34m\u001b[0m\u001b[0m\n\u001b[0m\u001b[1;32m    236\u001b[0m         \u001b[0matom_idx_to_atom_name\u001b[0m\u001b[0;34m,\u001b[0m \u001b[0m_\u001b[0m\u001b[0;34m,\u001b[0m \u001b[0matom_name_to_atom_type\u001b[0m\u001b[0;34m,\u001b[0m \u001b[0matom_idx_to_atom_partial_charge\u001b[0m \u001b[0;34m=\u001b[0m \u001b[0mself\u001b[0m\u001b[0;34m.\u001b[0m\u001b[0mgenerate_atom_tables_from_psf\u001b[0m\u001b[0;34m(\u001b[0m\u001b[0mpsf\u001b[0m\u001b[0;34m)\u001b[0m\u001b[0;34m\u001b[0m\u001b[0;34m\u001b[0m\u001b[0m\n\u001b[1;32m    237\u001b[0m \u001b[0;34m\u001b[0m\u001b[0m\n",
      "\u001b[0;31mOSError\u001b[0m: Bad input file /home/mwieder/Work/Projects/transformato/data/ethane/waterbox/lig/lig.sdf"
     ]
    }
   ],
   "source": [
    "from transformato import FreeEnergyCalculator\n",
    "\n",
    "import transformato\n",
    "import pytest\n",
    "import sys, os\n",
    "import logging\n",
    "import shutil\n",
    "import pathlib\n",
    "from transformato import load_config_yaml, SystemStructure, ProposeMutationRoute, IntermediateStateFactory\n",
    "import parmed as pm\n",
    "import copy\n",
    "import numpy as np\n",
    "# read in specific topology with parameters\n",
    "from parmed.charmm.parameters import CharmmParameterSet\n",
    "import subprocess\n",
    "\n",
    "for conf in ['../config/ethane-ethanol-solvation-free-energy.yaml']:\n",
    "    configuration = load_config_yaml(config=conf,\n",
    "                    input_dir='../data/', output_dir='../data/')\n",
    "\n",
    "    # load systems\n",
    "    s1 = SystemStructure(configuration, 'structure1')\n",
    "    s2 = SystemStructure(configuration, 'structure2')\n",
    "    a = ProposeMutationRoute(s1, s2)\n",
    "\n",
    "    # generate mutation route\n",
    "    mutation_list = a.generate_mutations_to_common_core_for_mol1(nr_of_steps_for_el=5, nr_of_steps_for_bonded_parameters=5)\n",
    "    # write intermediate states for systems\n",
    "    i = IntermediateStateFactory(system=s1, mutation_list=mutation_list, configuration=configuration)\n",
    "    i.generate_intermediate_states()\n",
    "    paths = pathlib.Path(i.path).glob('**/*.sh')\n",
    "    for path in sorted(paths):\n",
    "        run_dir = path.parent\n",
    "        # because path is object not string\n",
    "        print(f\"Start sampling for: {path}\")\n",
    "        print(f\"In directory: {run_dir}\")\n",
    "        try:\n",
    "            exe = subprocess.run(['bash', str(path), str(run_dir)], check=True, capture_output=True,text=True)\n",
    "        except TypeError:\n",
    "            exe = subprocess.run(['bash', str(path), str(run_dir)], check=True, stdout=subprocess.PIPE, stderr=subprocess.PIPE, text=True)\n",
    "        print(exe.stdout)\n",
    "        print('Capture stderr')\n",
    "        print(exe.stderr)\n",
    "\n",
    "    # generate mutation route\n",
    "    mutation_list = a.generate_mutations_to_common_core_for_mol2(nr_of_steps_for_el=5)\n",
    "    # write intermediate states\n",
    "    i = IntermediateStateFactory(system=s2, mutation_list=mutation_list, configuration=configuration)\n",
    "    i.generate_intermediate_states()\n",
    "\n",
    "    paths = pathlib.Path(i.path).glob('**/*.sh')\n",
    "    for path in sorted(paths):\n",
    "        run_dir = path.parent\n",
    "        # because path is object not string\n",
    "        print(f\"Start sampling for: {path}\")\n",
    "        print(f\"In directory: {run_dir}\")\n",
    "        try:\n",
    "            exe = subprocess.run(['bash', str(path), str(run_dir)], check=True, capture_output=True,text=True)\n",
    "        except TypeError:\n",
    "            exe = subprocess.run(['bash', str(path), str(run_dir)], check=True, stdout=subprocess.PIPE, stderr=subprocess.PIPE, text=True)\n",
    "        print(exe.stdout)\n",
    "        print('Capture stderr')\n",
    "        print(exe.stderr)\n",
    "\n",
    "    f= FreeEnergyCalculator(configuration, 'ethane')\n",
    "    f.load_trajs(thinning=1)\n",
    "    f.calculate_dG_to_common_core()\n",
    "    ddG, dddG = f.end_state_free_energy_difference\n",
    "    print(f\"Free energy difference: {ddG}\")\n",
    "    print(f\"Uncertanty: {dddG}\")\n",
    "    #assert(ddG == 10.0)\n",
    "\n",
    "    f.show_summary()\n",
    "\n",
    "    f= FreeEnergyCalculator(configuration, 'ethanol')\n",
    "    f.load_trajs(thinning=1)\n",
    "    f.calculate_dG_to_common_core()\n",
    "\n",
    "    f.show_summary()\n",
    "    #shutil.rmtree(pathlib.Path(i.path).parent)\n"
   ]
  },
  {
   "cell_type": "code",
   "execution_count": 8,
   "metadata": {},
   "outputs": [],
   "source": [
    "from itertools import product"
   ]
  },
  {
   "cell_type": "code",
   "execution_count": null,
   "metadata": {},
   "outputs": [],
   "source": []
  },
  {
   "cell_type": "code",
   "execution_count": 9,
   "metadata": {},
   "outputs": [
    {
     "name": "stdout",
     "output_type": "stream",
     "text": [
      "('a', 'x')\n",
      "('a', 'y')\n",
      "('b', 'x')\n",
      "('b', 'y')\n",
      "('c', 'x')\n",
      "('c', 'y')\n"
     ]
    }
   ],
   "source": [
    "for a in product(['a', 'b', 'c'], ['x', 'y']):\n",
    "    print(a)"
   ]
  }
 ],
 "metadata": {
  "kernelspec": {
   "display_name": "Python (transformato)",
   "language": "python",
   "name": "transformato"
  },
  "language_info": {
   "codemirror_mode": {
    "name": "ipython",
    "version": 3
   },
   "file_extension": ".py",
   "mimetype": "text/x-python",
   "name": "python",
   "nbconvert_exporter": "python",
   "pygments_lexer": "ipython3",
   "version": "3.7.3"
  }
 },
 "nbformat": 4,
 "nbformat_minor": 2
}
