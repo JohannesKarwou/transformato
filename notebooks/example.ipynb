{
 "cells": [
  {
   "cell_type": "code",
   "execution_count": null,
   "metadata": {},
   "outputs": [],
   "source": [
    "from transformato import load_config_yaml, SystemStructure, IntermediateStateFactory, ProposeMutationRoute\n",
    "import rdkit.Chem as Chem\n",
    "from IPython.display import SVG\n",
    "from rdkit.Chem.Draw import IPythonConsole\n",
    "from rdkit.Chem import AllChem"
   ]
  },
  {
   "cell_type": "markdown",
   "metadata": {},
   "source": [
    "Load the yaml configuration files"
   ]
  },
  {
   "cell_type": "code",
   "execution_count": null,
   "metadata": {},
   "outputs": [],
   "source": [
    "configuration = load_config_yaml(config='../config/2oj9-example.yaml',\n",
    "                       input_dir='../data/charmm-gui', output_dir='../data/')"
   ]
  },
  {
   "cell_type": "markdown",
   "metadata": {},
   "source": [
    "Generate structure 1 as defined in the yaml file"
   ]
  },
  {
   "cell_type": "code",
   "execution_count": null,
   "metadata": {},
   "outputs": [],
   "source": [
    "s1 = SystemStructure(configuration, 'structure1')"
   ]
  },
  {
   "cell_type": "markdown",
   "metadata": {},
   "source": [
    "Generate structure2"
   ]
  },
  {
   "cell_type": "code",
   "execution_count": null,
   "metadata": {},
   "outputs": [],
   "source": [
    "s2 = SystemStructure(configuration, 'structure2')"
   ]
  },
  {
   "cell_type": "markdown",
   "metadata": {},
   "source": [
    "Propose a route from structure1 and structure2 to a commen core that has the same bonded parameters, atom types and charges.\n",
    "THe commen core is highlighted on both structures."
   ]
  },
  {
   "cell_type": "code",
   "execution_count": null,
   "metadata": {},
   "outputs": [],
   "source": [
    "a = ProposeMutationRoute(s1, s2)"
   ]
  },
  {
   "cell_type": "markdown",
   "metadata": {},
   "source": [
    "Show both commen cores"
   ]
  },
  {
   "cell_type": "markdown",
   "metadata": {},
   "source": [
    "Generate the mutation list that is necessary to transform structure1 to the common core.\n",
    "The intermediate states that are generated are located in different directories and can be run independently. The output_path variable defines where these directories are located."
   ]
  },
  {
   "cell_type": "code",
   "execution_count": null,
   "metadata": {
    "scrolled": false
   },
   "outputs": [],
   "source": [
    "mutation_list = a.generate_mutations_to_common_core_for_mol1(nr_of_steps_for_el=5, nr_of_steps_for_bonded_parameters=5)\n",
    "i = IntermediateStateFactory(system=s1, mutation_list=mutation_list, configuration=configuration)\n",
    "i.generate_intermediate_states()"
   ]
  },
  {
   "cell_type": "markdown",
   "metadata": {},
   "source": [
    "Do the same for structure2"
   ]
  },
  {
   "cell_type": "code",
   "execution_count": null,
   "metadata": {
    "scrolled": false
   },
   "outputs": [],
   "source": [
    "mutation_list = a.generate_mutations_to_common_core_for_mol2(nr_of_steps_for_el=5)\n",
    "i = IntermediateStateFactory(system=s2, mutation_list=mutation_list, configuration=configuration)\n",
    "i.generate_intermediate_states()\n"
   ]
  },
  {
   "cell_type": "markdown",
   "metadata": {},
   "source": [
    "Congratulations! You have generated all intermediate states to generate equilibrium samples from distributions that alchemically connect the two endpoints.\n",
    "Runn the simulations and after they are finished continue below."
   ]
  },
  {
   "cell_type": "code",
   "execution_count": null,
   "metadata": {},
   "outputs": [],
   "source": [
    "from transformato import FreeEnergyCalculator"
   ]
  },
  {
   "cell_type": "code",
   "execution_count": null,
   "metadata": {},
   "outputs": [],
   "source": [
    "f= FreeEnergyCalculator(configuration, '2OJ9-e1')\n",
    "f.load_trajs(thinning=2)\n",
    "f.calculate_dG_to_common_core()\n",
    "f.show_summary()"
   ]
  },
  {
   "cell_type": "code",
   "execution_count": null,
   "metadata": {
    "scrolled": false
   },
   "outputs": [],
   "source": [
    "f= FreeEnergyCalculator(configuration, '2OJ9-e2')\n",
    "f.load_trajs(thinning=2)\n",
    "f.calculate_dG_to_common_core()\n",
    "f.show_summary()"
   ]
  }
 ],
 "metadata": {
  "kernelspec": {
   "display_name": "Python (transformato)",
   "language": "python",
   "name": "transformato"
  },
  "language_info": {
   "codemirror_mode": {
    "name": "ipython",
    "version": 3
   },
   "file_extension": ".py",
   "mimetype": "text/x-python",
   "name": "python",
   "nbconvert_exporter": "python",
   "pygments_lexer": "ipython3",
   "version": "3.6.7"
  }
 },
 "nbformat": 4,
 "nbformat_minor": 2
}
