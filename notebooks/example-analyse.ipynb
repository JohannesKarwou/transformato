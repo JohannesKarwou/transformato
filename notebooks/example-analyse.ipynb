{
 "cells": [
  {
   "cell_type": "code",
   "execution_count": null,
   "metadata": {},
   "outputs": [],
   "source": [
    "from transformato import load_config_yaml, FreeEnergyCalculator, SystemStructure"
   ]
  },
  {
   "cell_type": "code",
   "execution_count": null,
   "metadata": {},
   "outputs": [],
   "source": [
    "configuration = load_config_yaml(config='/home/mwieder/Work/Projects/transformato/config/CE105-CE121.yaml',\n",
    "                       input_dir='/home/mwieder/CE105-CE121/results/', output_dir='/home/mwieder/')"
   ]
  },
  {
   "cell_type": "code",
   "execution_count": null,
   "metadata": {},
   "outputs": [],
   "source": [
    "s1 = SystemStructure(configuration, 'structure1')\n",
    "s2 = SystemStructure(configuration, 'structure2')\n",
    "from transformato.mutate import ProposeMutationRoute\n",
    "a = ProposeMutationRoute(s1, s2)"
   ]
  },
  {
   "cell_type": "code",
   "execution_count": null,
   "metadata": {},
   "outputs": [],
   "source": [
    "SVG(a.show_common_core_on_mol1())"
   ]
  },
  {
   "cell_type": "code",
   "execution_count": null,
   "metadata": {},
   "outputs": [],
   "source": [
    "SVG(a.show_common_core_on_mol2())"
   ]
  },
  {
   "cell_type": "code",
   "execution_count": null,
   "metadata": {},
   "outputs": [],
   "source": [
    "f= FreeEnergyCalculator(configuration, 'CE121')\n",
    "f.show_summary()"
   ]
  },
  {
   "cell_type": "code",
   "execution_count": null,
   "metadata": {},
   "outputs": [],
   "source": [
    "f= FreeEnergyCalculator(configuration, 'CE105')\n",
    "f.show_summary()"
   ]
  }
 ],
 "metadata": {
  "kernelspec": {
   "display_name": "Python (transformato)",
   "language": "python",
   "name": "transformato"
  },
  "language_info": {
   "codemirror_mode": {
    "name": "ipython",
    "version": 3
   },
   "file_extension": ".py",
   "mimetype": "text/x-python",
   "name": "python",
   "nbconvert_exporter": "python",
   "pygments_lexer": "ipython3",
   "version": "3.6.7"
  }
 },
 "nbformat": 4,
 "nbformat_minor": 2
}
