{
 "cells": [
  {
   "cell_type": "code",
   "execution_count": 1,
   "metadata": {},
   "outputs": [],
   "source": [
    "from transformato import calculate_dG_to_common_core, load_config_yaml, SystemStructure, IntermediateStateFactory"
   ]
  },
  {
   "cell_type": "code",
   "execution_count": 2,
   "metadata": {},
   "outputs": [
    {
     "name": "stderr",
     "output_type": "stream",
     "text": [
      "/home/mwieder/anaconda3/envs/transformato/lib/python3.6/site-packages/transformato-0.0.0+29.g25dc9f5.dirty-py3.6.egg/transformato/utils.py:17: YAMLLoadWarning: calling yaml.load() without Loader=... is deprecated, as the default Loader is unsafe. Please read https://msg.pyyaml.org/load for full details.\n",
      "  settingsMap = yaml.load(stream)\n"
     ]
    }
   ],
   "source": [
    "configuration = load_config_yaml(config='/home/mwieder/Work/Projects/transformato/config/2oj9-test.yaml',\n",
    "                       input_dir='/home/mwieder/Work/Projects/transformato/data/', output_dir='/home/mwieder/')"
   ]
  },
  {
   "cell_type": "code",
   "execution_count": 4,
   "metadata": {},
   "outputs": [],
   "source": [
    "import transformato"
   ]
  },
  {
   "cell_type": "code",
   "execution_count": 6,
   "metadata": {},
   "outputs": [
    {
     "name": "stdout",
     "output_type": "stream",
     "text": [
      "(40, 4000)\n",
      "(40, 4000)\n"
     ]
    }
   ],
   "source": [
    "f = transformato.analysis.calculate_dG_to_common_core(configuration, '2OJ9', 40)"
   ]
  },
  {
   "cell_type": "code",
   "execution_count": 10,
   "metadata": {},
   "outputs": [
    {
     "data": {
      "text/plain": [
       "(Results(env='solv', Deltaf_ij=array([[   0.        ,    7.35100481,   14.02340702, ...,  187.13313521,\n",
       "          207.19096562,  225.33143484],\n",
       "        [  -7.35100481,    0.        ,    6.6724022 , ...,  179.7821304 ,\n",
       "          199.8399608 ,  217.98043003],\n",
       "        [ -14.02340702,   -6.6724022 ,    0.        , ...,  173.1097282 ,\n",
       "          193.1675586 ,  211.30802783],\n",
       "        ...,\n",
       "        [-187.13313521, -179.7821304 , -173.1097282 , ...,    0.        ,\n",
       "           20.0578304 ,   38.19829963],\n",
       "        [-207.19096562, -199.8399608 , -193.1675586 , ...,  -20.0578304 ,\n",
       "            0.        ,   18.14046923],\n",
       "        [-225.33143484, -217.98043003, -211.30802783, ...,  -38.19829963,\n",
       "          -18.14046923,    0.        ]]), dDeltaf_ij=array([[0.00000000e+00, 4.86491670e-02, 8.66221743e-02, ...,\n",
       "         4.88706398e+02, 4.88706414e+02, 4.88706431e+02],\n",
       "        [4.86491670e-02, 0.00000000e+00, 4.37026949e-02, ...,\n",
       "         4.88706390e+02, 4.88706406e+02, 4.88706424e+02],\n",
       "        [8.66221741e-02, 4.37026943e-02, 0.00000000e+00, ...,\n",
       "         4.88706384e+02, 4.88706400e+02, 4.88706417e+02],\n",
       "        ...,\n",
       "        [4.88706402e+02, 4.88706394e+02, 4.88706388e+02, ...,\n",
       "         0.00000000e+00, 8.28813836e-02, 1.50190866e-01],\n",
       "        [4.88706418e+02, 4.88706411e+02, 4.88706404e+02, ...,\n",
       "         8.28813835e-02, 0.00000000e+00, 8.64591407e-02],\n",
       "        [4.88706435e+02, 4.88706428e+02, 4.88706421e+02, ...,\n",
       "         1.50190866e-01, 8.64591406e-02, 0.00000000e+00]]), Theta_ij=None),\n",
       " Results(env='complex', Deltaf_ij=array([[   0.        ,    6.5188273 ,   12.49237699, ...,  122.2020136 ,\n",
       "          143.78542001,  163.65101628],\n",
       "        [  -6.5188273 ,    0.        ,    5.9735497 , ...,  115.6831863 ,\n",
       "          137.26659272,  157.13218898],\n",
       "        [ -12.49237699,   -5.9735497 ,    0.        , ...,  109.70963661,\n",
       "          131.29304302,  151.15863928],\n",
       "        ...,\n",
       "        [-122.2020136 , -115.6831863 , -109.70963661, ...,    0.        ,\n",
       "           21.58340641,   41.44900268],\n",
       "        [-143.78542001, -137.26659272, -131.29304302, ...,  -21.58340641,\n",
       "            0.        ,   19.86559627],\n",
       "        [-163.65101628, -157.13218898, -151.15863928, ...,  -41.44900268,\n",
       "          -19.86559627,    0.        ]]), dDeltaf_ij=array([[0.        , 0.04873179, 0.07986332, ..., 0.23706185, 0.26041599,\n",
       "         0.28930105],\n",
       "        [0.04873179, 0.        , 0.03604283, ..., 0.22478075, 0.24928809,\n",
       "         0.27932626],\n",
       "        [0.07986332, 0.03604283, 0.        , ..., 0.21725064, 0.24252011,\n",
       "         0.27330316],\n",
       "        ...,\n",
       "        [0.23706185, 0.22478075, 0.21725064, ..., 0.        , 0.07789366,\n",
       "         0.1482032 ],\n",
       "        [0.26041599, 0.24928809, 0.24252011, ..., 0.07789366, 0.        ,\n",
       "         0.08921864],\n",
       "        [0.28930105, 0.27932626, 0.27330316, ..., 0.1482032 , 0.08921864,\n",
       "         0.        ]]), Theta_ij=None))"
      ]
     },
     "execution_count": 10,
     "metadata": {},
     "output_type": "execute_result"
    }
   ],
   "source": [
    "f"
   ]
  },
  {
   "cell_type": "code",
   "execution_count": null,
   "metadata": {},
   "outputs": [],
   "source": [
    "def _parse_files(configuration:dict, structure:str, nr_of_states:int)->(dict,dict):\n",
    "\n",
    "    r_waterbox_state = defaultdict(dict)\n",
    "    r_complex_state = defaultdict(dict)\n",
    "    for i in range(1, nr_of_states+1):\n",
    "        for j in range(1, nr_of_states+1):\n",
    "            file_path = f\"{configuration['system_dir']}/results/energy_{structure}_{i}_{j}.json\"\n",
    "            f = open(file_path, 'r')\n",
    "            r = json.load(f)\n",
    "            r_waterbox_state[i][j] = r['waterbox']\n",
    "            r_complex_state[i][j] = r['complex']\n",
    "            f.close()\n",
    "    return r_waterbox_state, r_complex_state, \n"
   ]
  },
  {
   "cell_type": "code",
   "execution_count": null,
   "metadata": {},
   "outputs": [],
   "source": [
    "from collections import defaultdict\n",
    "import json\n",
    "r1,_r2 = _parse_files(configuration, '2OJ9', 40)\n",
    "import pymbar\n",
    "import numpy as np\n",
    "import matplotlib.pyplot as plt"
   ]
  },
  {
   "cell_type": "code",
   "execution_count": null,
   "metadata": {},
   "outputs": [],
   "source": [
    "plt.hist(r1[1][1], alpha=0.5)\n",
    "plt.hist(r1[1][40], alpha=0.5)\n",
    "plt.plot()"
   ]
  },
  {
   "cell_type": "code",
   "execution_count": null,
   "metadata": {},
   "outputs": [],
   "source": [
    "r1[1][38]"
   ]
  },
  {
   "cell_type": "code",
   "execution_count": null,
   "metadata": {},
   "outputs": [],
   "source": [
    "r1[5][40]"
   ]
  },
  {
   "cell_type": "code",
   "execution_count": null,
   "metadata": {},
   "outputs": [],
   "source": []
  },
  {
   "cell_type": "code",
   "execution_count": null,
   "metadata": {},
   "outputs": [],
   "source": [
    "r1[1][1]"
   ]
  },
  {
   "cell_type": "code",
   "execution_count": null,
   "metadata": {},
   "outputs": [],
   "source": [
    "pymbar.BAR(np.array(r1[1][1]), -np.array(r1[1][2])) "
   ]
  },
  {
   "cell_type": "code",
   "execution_count": null,
   "metadata": {},
   "outputs": [],
   "source": [
    "pymbar.BAR?"
   ]
  },
  {
   "cell_type": "code",
   "execution_count": null,
   "metadata": {},
   "outputs": [],
   "source": []
  },
  {
   "cell_type": "code",
   "execution_count": null,
   "metadata": {},
   "outputs": [],
   "source": []
  },
  {
   "cell_type": "code",
   "execution_count": null,
   "metadata": {},
   "outputs": [],
   "source": []
  },
  {
   "cell_type": "code",
   "execution_count": null,
   "metadata": {},
   "outputs": [],
   "source": [
    "configuration"
   ]
  },
  {
   "cell_type": "code",
   "execution_count": null,
   "metadata": {},
   "outputs": [],
   "source": [
    "configuration['analysis_dir_base']"
   ]
  },
  {
   "cell_type": "code",
   "execution_count": null,
   "metadata": {},
   "outputs": [],
   "source": [
    "s1 = SystemStructure(configuration, 'structure1')"
   ]
  },
  {
   "cell_type": "code",
   "execution_count": null,
   "metadata": {},
   "outputs": [],
   "source": [
    "s2 = SystemStructure(configuration, 'structure2')"
   ]
  },
  {
   "cell_type": "code",
   "execution_count": null,
   "metadata": {},
   "outputs": [],
   "source": [
    "import rdkit.Chem as Chem\n",
    "from IPython.display import SVG\n",
    "from rdkit.Chem.Draw import IPythonConsole\n",
    "import copy\n",
    "from rdkit.Chem import AllChem\n",
    "\n",
    "m = copy.deepcopy(s2.mol)\n",
    "AllChem.Compute2DCoords(m)\n",
    "m"
   ]
  },
  {
   "cell_type": "code",
   "execution_count": null,
   "metadata": {},
   "outputs": [],
   "source": [
    "import rdkit.Chem as Chem\n",
    "from IPython.display import SVG\n",
    "from rdkit.Chem.Draw import IPythonConsole\n",
    "import copy\n",
    "from rdkit.Chem import AllChem\n",
    "\n",
    "m = copy.deepcopy(s1.mol)\n",
    "AllChem.Compute2DCoords(m)\n",
    "m"
   ]
  },
  {
   "cell_type": "code",
   "execution_count": null,
   "metadata": {},
   "outputs": [],
   "source": [
    "import transformato"
   ]
  },
  {
   "cell_type": "code",
   "execution_count": null,
   "metadata": {},
   "outputs": [],
   "source": [
    "from simtk import unit"
   ]
  },
  {
   "cell_type": "code",
   "execution_count": null,
   "metadata": {},
   "outputs": [],
   "source": [
    "transformato.calculate_energies"
   ]
  },
  {
   "cell_type": "code",
   "execution_count": null,
   "metadata": {},
   "outputs": [],
   "source": [
    "return_reduced_potential(100 * unit.kilocalorie_per_mole, volume=1 * unit.angstrom**3, temperature=300 * unit.kelvin)"
   ]
  },
  {
   "cell_type": "code",
   "execution_count": null,
   "metadata": {},
   "outputs": [],
   "source": []
  },
  {
   "cell_type": "code",
   "execution_count": null,
   "metadata": {},
   "outputs": [],
   "source": []
  },
  {
   "cell_type": "code",
   "execution_count": null,
   "metadata": {},
   "outputs": [],
   "source": [
    "from transformato.mutate import ProposeMutationRoute\n",
    "a = ProposeMutationRoute(s1, s2)"
   ]
  },
  {
   "cell_type": "code",
   "execution_count": null,
   "metadata": {
    "scrolled": false
   },
   "outputs": [],
   "source": [
    "SVG(a.show_common_core_on_mol1())"
   ]
  },
  {
   "cell_type": "code",
   "execution_count": null,
   "metadata": {},
   "outputs": [],
   "source": [
    "SVG(a.show_common_core_on_mol2())"
   ]
  },
  {
   "cell_type": "code",
   "execution_count": null,
   "metadata": {
    "scrolled": false
   },
   "outputs": [],
   "source": [
    "mutation_list = a.generate_mutations_to_common_core_for_mol1()\n",
    "i = IntermediateStateFactory(s1, [mutation_list[-1]], configuration)"
   ]
  },
  {
   "cell_type": "code",
   "execution_count": null,
   "metadata": {},
   "outputs": [],
   "source": [
    "mutation_list"
   ]
  },
  {
   "cell_type": "code",
   "execution_count": null,
   "metadata": {
    "scrolled": false
   },
   "outputs": [],
   "source": [
    "i.generate_intermediate_states()"
   ]
  },
  {
   "cell_type": "code",
   "execution_count": null,
   "metadata": {},
   "outputs": [],
   "source": []
  },
  {
   "cell_type": "code",
   "execution_count": null,
   "metadata": {},
   "outputs": [],
   "source": []
  },
  {
   "cell_type": "code",
   "execution_count": null,
   "metadata": {},
   "outputs": [],
   "source": []
  },
  {
   "cell_type": "code",
   "execution_count": null,
   "metadata": {},
   "outputs": [],
   "source": []
  },
  {
   "cell_type": "code",
   "execution_count": null,
   "metadata": {},
   "outputs": [],
   "source": [
    "len(s1.waterbox_psf.dihedrals)"
   ]
  },
  {
   "cell_type": "code",
   "execution_count": null,
   "metadata": {},
   "outputs": [],
   "source": [
    "imp = s1.waterbox_psf.impropers[0]\n",
    "imp.atom1.residue.name"
   ]
  },
  {
   "cell_type": "code",
   "execution_count": null,
   "metadata": {},
   "outputs": [],
   "source": [
    "imp.type.psi_k"
   ]
  },
  {
   "cell_type": "code",
   "execution_count": null,
   "metadata": {},
   "outputs": [],
   "source": []
  },
  {
   "cell_type": "code",
   "execution_count": null,
   "metadata": {},
   "outputs": [],
   "source": []
  },
  {
   "cell_type": "code",
   "execution_count": null,
   "metadata": {},
   "outputs": [],
   "source": [
    "for cc1_torsion in s1.waterbox_psf.impropers:\n",
    "    print([(elem.residue.name) for elem in [cc1_torsion.atom1, cc1_torsion.atom2, cc1_torsion.atom3, cc1_torsion.atom4]])"
   ]
  },
  {
   "cell_type": "code",
   "execution_count": null,
   "metadata": {},
   "outputs": [],
   "source": [
    "l = [1,2,3]"
   ]
  },
  {
   "cell_type": "code",
   "execution_count": null,
   "metadata": {},
   "outputs": [],
   "source": [
    "for a in l[-1:]:\n",
    "    print(a)"
   ]
  },
  {
   "cell_type": "code",
   "execution_count": null,
   "metadata": {},
   "outputs": [],
   "source": [
    "idx = 5\n",
    "print(s1.waterbox_psf[idx].initial_type)"
   ]
  },
  {
   "cell_type": "code",
   "execution_count": null,
   "metadata": {},
   "outputs": [],
   "source": [
    "import copy\n",
    "for d in s1.waterbox_psf.dihedrals:\n",
    "    for t in d.type:\n",
    "        print(t.phi_k)\n"
   ]
  },
  {
   "cell_type": "code",
   "execution_count": null,
   "metadata": {},
   "outputs": [],
   "source": [
    "len(s2.waterbox_psf.dihedrals)"
   ]
  },
  {
   "cell_type": "code",
   "execution_count": null,
   "metadata": {},
   "outputs": [],
   "source": [
    "dir(s2.waterbox_psf)"
   ]
  },
  {
   "cell_type": "code",
   "execution_count": null,
   "metadata": {},
   "outputs": [],
   "source": [
    "s2.waterbox_psf.dihedrals.append(d)"
   ]
  },
  {
   "cell_type": "code",
   "execution_count": null,
   "metadata": {},
   "outputs": [],
   "source": [
    "len(s2.waterbox_psf.dihedrals)"
   ]
  },
  {
   "cell_type": "code",
   "execution_count": null,
   "metadata": {},
   "outputs": [],
   "source": []
  },
  {
   "cell_type": "code",
   "execution_count": null,
   "metadata": {},
   "outputs": [],
   "source": []
  },
  {
   "cell_type": "code",
   "execution_count": null,
   "metadata": {},
   "outputs": [],
   "source": []
  },
  {
   "cell_type": "code",
   "execution_count": null,
   "metadata": {},
   "outputs": [],
   "source": []
  },
  {
   "cell_type": "code",
   "execution_count": null,
   "metadata": {},
   "outputs": [],
   "source": [
    "s1.waterbox_psf[0].type"
   ]
  },
  {
   "cell_type": "code",
   "execution_count": null,
   "metadata": {},
   "outputs": [],
   "source": [
    "#mutation_list = a.generate_mutations_to_common_core_for_mol2()\n",
    "#i = IntermediateStateFactory(s1, mutation_list, configuration, 'test')"
   ]
  },
  {
   "cell_type": "code",
   "execution_count": null,
   "metadata": {},
   "outputs": [],
   "source": []
  },
  {
   "cell_type": "code",
   "execution_count": null,
   "metadata": {},
   "outputs": [],
   "source": []
  },
  {
   "cell_type": "code",
   "execution_count": null,
   "metadata": {},
   "outputs": [],
   "source": [
    "a = {}"
   ]
  },
  {
   "cell_type": "code",
   "execution_count": null,
   "metadata": {},
   "outputs": [],
   "source": [
    "sorted((3, 1, 2))"
   ]
  },
  {
   "cell_type": "code",
   "execution_count": null,
   "metadata": {},
   "outputs": [],
   "source": [
    "a[sorted((3, 1, 2))] = 2"
   ]
  },
  {
   "cell_type": "code",
   "execution_count": null,
   "metadata": {},
   "outputs": [],
   "source": []
  },
  {
   "cell_type": "code",
   "execution_count": null,
   "metadata": {},
   "outputs": [],
   "source": []
  },
  {
   "cell_type": "code",
   "execution_count": null,
   "metadata": {},
   "outputs": [],
   "source": []
  },
  {
   "cell_type": "code",
   "execution_count": null,
   "metadata": {},
   "outputs": [],
   "source": []
  },
  {
   "cell_type": "code",
   "execution_count": null,
   "metadata": {},
   "outputs": [],
   "source": []
  },
  {
   "cell_type": "code",
   "execution_count": null,
   "metadata": {},
   "outputs": [],
   "source": []
  },
  {
   "cell_type": "code",
   "execution_count": null,
   "metadata": {},
   "outputs": [],
   "source": [
    "for bond in s1.waterbox_psf[\":BMI\"].bonds:\n",
    "    print(bond.atom1.name)\n"
   ]
  },
  {
   "cell_type": "code",
   "execution_count": null,
   "metadata": {},
   "outputs": [],
   "source": []
  },
  {
   "cell_type": "code",
   "execution_count": null,
   "metadata": {},
   "outputs": [],
   "source": []
  },
  {
   "cell_type": "code",
   "execution_count": null,
   "metadata": {},
   "outputs": [],
   "source": [
    "m1.GetAtoms()[0].GetSymbol()"
   ]
  },
  {
   "cell_type": "code",
   "execution_count": null,
   "metadata": {},
   "outputs": [],
   "source": [
    "s.atoms[0].element_name"
   ]
  },
  {
   "cell_type": "code",
   "execution_count": null,
   "metadata": {},
   "outputs": [],
   "source": [
    "dir(s.atoms[0])"
   ]
  },
  {
   "cell_type": "code",
   "execution_count": null,
   "metadata": {},
   "outputs": [],
   "source": []
  },
  {
   "cell_type": "code",
   "execution_count": null,
   "metadata": {},
   "outputs": [],
   "source": [
    "a = s1.waterbox_psf"
   ]
  },
  {
   "cell_type": "code",
   "execution_count": null,
   "metadata": {},
   "outputs": [],
   "source": [
    "a.dihedrals[0].type"
   ]
  },
  {
   "cell_type": "code",
   "execution_count": null,
   "metadata": {},
   "outputs": [],
   "source": []
  },
  {
   "cell_type": "code",
   "execution_count": null,
   "metadata": {},
   "outputs": [],
   "source": []
  },
  {
   "cell_type": "code",
   "execution_count": null,
   "metadata": {},
   "outputs": [],
   "source": []
  },
  {
   "cell_type": "code",
   "execution_count": null,
   "metadata": {},
   "outputs": [],
   "source": []
  },
  {
   "cell_type": "code",
   "execution_count": null,
   "metadata": {},
   "outputs": [],
   "source": []
  },
  {
   "cell_type": "code",
   "execution_count": null,
   "metadata": {},
   "outputs": [],
   "source": []
  },
  {
   "cell_type": "code",
   "execution_count": null,
   "metadata": {},
   "outputs": [],
   "source": []
  },
  {
   "cell_type": "code",
   "execution_count": null,
   "metadata": {},
   "outputs": [],
   "source": [
    "b = (s1.waterbox_psf[0].bonds[0])"
   ]
  },
  {
   "cell_type": "code",
   "execution_count": null,
   "metadata": {},
   "outputs": [],
   "source": [
    "dir(b)"
   ]
  },
  {
   "cell_type": "code",
   "execution_count": null,
   "metadata": {},
   "outputs": [],
   "source": [
    "s1.waterbox_psf[0].angles[0].atom1.epsilon"
   ]
  },
  {
   "cell_type": "code",
   "execution_count": null,
   "metadata": {},
   "outputs": [],
   "source": []
  },
  {
   "cell_type": "code",
   "execution_count": null,
   "metadata": {},
   "outputs": [],
   "source": [
    "dir(s1.waterbox_psf[0])"
   ]
  },
  {
   "cell_type": "code",
   "execution_count": null,
   "metadata": {},
   "outputs": [],
   "source": [
    "s.dihedrals[0]"
   ]
  },
  {
   "cell_type": "code",
   "execution_count": null,
   "metadata": {},
   "outputs": [],
   "source": [
    "s.dihedrals[0].type"
   ]
  },
  {
   "cell_type": "code",
   "execution_count": null,
   "metadata": {},
   "outputs": [],
   "source": [
    "mutation_list = a.generate_mutations_to_commen_core_for_mol1()\n",
    "i = IntermediateStateFactory(s1, mutation_list, configuration, 'test')"
   ]
  },
  {
   "cell_type": "code",
   "execution_count": null,
   "metadata": {
    "scrolled": false
   },
   "outputs": [],
   "source": [
    "i.generate_intermediate_states()"
   ]
  },
  {
   "cell_type": "code",
   "execution_count": null,
   "metadata": {},
   "outputs": [],
   "source": [
    "s = s1.waterbox_psf"
   ]
  },
  {
   "cell_type": "code",
   "execution_count": null,
   "metadata": {},
   "outputs": [],
   "source": [
    "for i in s.impropers:\n",
    "    print(i.type)"
   ]
  },
  {
   "cell_type": "code",
   "execution_count": null,
   "metadata": {},
   "outputs": [],
   "source": []
  },
  {
   "cell_type": "code",
   "execution_count": null,
   "metadata": {},
   "outputs": [],
   "source": [
    "a = s[1]"
   ]
  },
  {
   "cell_type": "code",
   "execution_count": null,
   "metadata": {},
   "outputs": [],
   "source": [
    "b = s.bonds[0]"
   ]
  },
  {
   "cell_type": "code",
   "execution_count": null,
   "metadata": {},
   "outputs": [],
   "source": [
    "b.type"
   ]
  },
  {
   "cell_type": "code",
   "execution_count": null,
   "metadata": {},
   "outputs": [],
   "source": []
  }
 ],
 "metadata": {
  "kernelspec": {
   "display_name": "Python (transformato)",
   "language": "python",
   "name": "transformato"
  },
  "language_info": {
   "codemirror_mode": {
    "name": "ipython",
    "version": 3
   },
   "file_extension": ".py",
   "mimetype": "text/x-python",
   "name": "python",
   "nbconvert_exporter": "python",
   "pygments_lexer": "ipython3",
   "version": "3.6.7"
  }
 },
 "nbformat": 4,
 "nbformat_minor": 2
}
